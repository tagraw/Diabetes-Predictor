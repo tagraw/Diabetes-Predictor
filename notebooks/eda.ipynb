{
 "cells": [
  {
   "cell_type": "code",
   "execution_count": null,
   "id": "23508db7",
   "metadata": {
    "vscode": {
     "languageId": "plaintext"
    }
   },
   "outputs": [],
   "source": [
    "#eda explotory data anaylsis\n",
    "\n",
    "from sklearn.datasets import load_diabetes\n",
    "import pandas as pd\n",
    "\n",
    "X, y = load_diabetes(return_X_y=True)\n",
    "\n",
    "df = pd.DataFrame(X, columns=['age', 'sex', 'bmi', 'bp', 's1', 's2','s3','s4','s5','s6'])\n",
    "df['target'] = y \n",
    "df.describe()\n",
    "\\"
   ]
  }
 ],
 "metadata": {
  "language_info": {
   "name": "python"
  }
 },
 "nbformat": 4,
 "nbformat_minor": 5
}
